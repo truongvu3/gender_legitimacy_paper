{
 "cells": [
  {
   "cell_type": "code",
   "execution_count": 1,
   "id": "9b87abac",
   "metadata": {},
   "outputs": [],
   "source": [
    "import pandas as pd\n",
    "import numpy as np\n",
    "import matplotlib.pyplot as plt\n",
    "\n",
    "dff = pd.read_csv(\"Female Vignette.csv\")\n",
    "dfm = pd.read_csv(\"Male Vignette.csv\")"
   ]
  },
  {
   "cell_type": "markdown",
   "id": "3a25802c",
   "metadata": {},
   "source": [
    "## Data Cleaning, concatenate two sheets, change column names, reverse scales, quantifying"
   ]
  },
  {
   "cell_type": "code",
   "execution_count": 2,
   "id": "b968f788",
   "metadata": {},
   "outputs": [],
   "source": [
    "dff.rename(columns=lambda x: x.strip())\n",
    "dfm.rename(columns=lambda x: x.strip())\n",
    "dff.drop(columns=\"Timestamp\",inplace=True)\n",
    "dfm.drop(columns=\"Timestamp\",inplace=True)\n",
    "\n",
    "dff[\"Gendered language (f=0,m=1)\"] = 0\n",
    "dfm[\"Gendered language (f=0,m=1)\"] = 1\n",
    "\n",
    "df = pd.concat([dff,dfm])\n",
    "df.reset_index(inplace=True, drop=True)\n",
    "df.columns = [num for num,i in enumerate(df.columns)]"
   ]
  },
  {
   "cell_type": "code",
   "execution_count": 3,
   "id": "98cb38d6",
   "metadata": {},
   "outputs": [],
   "source": [
    "#Reverse code scales\n",
    "def reverseScoring(df, high, cols):\n",
    "    '''Reverse scores on given columns\n",
    "     df = your data frame,\n",
    "     high = highest score available\n",
    "     cols = the columns you want reversed in list form'''\n",
    "    df[cols] = high - df[cols]\n",
    "    return df"
   ]
  },
  {
   "cell_type": "code",
   "execution_count": 4,
   "id": "8348136a",
   "metadata": {},
   "outputs": [],
   "source": [
    "#Gender Role attitudes\n",
    "df = reverseScoring(df, 6, [19,20])"
   ]
  },
  {
   "cell_type": "code",
   "execution_count": 5,
   "id": "a8a7597c",
   "metadata": {},
   "outputs": [],
   "source": [
    "#Gender of participant\n",
    "df[26] = df[26].apply(lambda x: 1 if x == \"Male\" else 0)"
   ]
  },
  {
   "cell_type": "code",
   "execution_count": 6,
   "id": "87b85df0",
   "metadata": {},
   "outputs": [],
   "source": [
    "#Have you owned a business before?\n",
    "df[31] = df[31].apply(lambda x: 1 if x == \"Yes\" else 0)"
   ]
  },
  {
   "cell_type": "code",
   "execution_count": 7,
   "id": "53dd9d02",
   "metadata": {},
   "outputs": [],
   "source": [
    "#Filter partipants with manipulation check question #7"
   ]
  },
  {
   "cell_type": "code",
   "execution_count": 8,
   "id": "fa40099e",
   "metadata": {},
   "outputs": [],
   "source": [
    "df = df[df[7] == 4]"
   ]
  },
  {
   "cell_type": "markdown",
   "id": "4bb6cad3",
   "metadata": {},
   "source": [
    "## Summarise scales"
   ]
  },
  {
   "cell_type": "code",
   "execution_count": 9,
   "id": "2920b379",
   "metadata": {},
   "outputs": [],
   "source": [
    "df[\"cog_leg\"] = (df[0]+df[1]+df[2])/3\n",
    "df[\"prag_leg\"] = (df[3]+df[4]+df[5])/3\n",
    "df[\"gender_role_att\"] = (df[16]+df[17]+df[18]+df[19]+df[20])/5\n"
   ]
  },
  {
   "cell_type": "markdown",
   "id": "b4048945",
   "metadata": {},
   "source": [
    "## Write questions code to desktop"
   ]
  },
  {
   "cell_type": "code",
   "execution_count": 10,
   "id": "f0107381",
   "metadata": {},
   "outputs": [],
   "source": [
    "#Write question code to Desktop\n",
    "columns_index = [str(num) + \" \" + i + \" \\n\" for num,i in enumerate(dff.columns)]\n",
    "textfile = open(\"C:/Users/truon/Desktop/question_codes.txt\", \"w\")\n",
    "for element in columns_index:\n",
    "    textfile.write(element + \"\\n\")\n",
    "textfile.close()"
   ]
  },
  {
   "cell_type": "markdown",
   "id": "dbc6d8a8",
   "metadata": {},
   "source": [
    "# Analysis\n",
    "## Visuals"
   ]
  },
  {
   "cell_type": "code",
   "execution_count": 11,
   "id": "92f64508",
   "metadata": {},
   "outputs": [
    {
     "data": {
      "image/png": "[encoded data removed]",
      "text/plain": [
       "<Figure size 432x288 with 1 Axes>"
      ]
     },
     "metadata": {
      "needs_background": "light"
     },
     "output_type": "display_data"
    }
   ],
   "source": [
    "plt.scatter(df[34], df['prag_leg'], color='red')\n",
    "plt.title('Pragmatic Legitimacy (0 = female, 1 = male)', fontsize=14)\n",
    "# plt.xlabel('Interest Rate', fontsize=14)\n",
    "# plt.ylabel('Stock Index Price', fontsize=14)\n",
    "plt.grid(True)\n",
    "plt.show()"
   ]
  },
  {
   "cell_type": "markdown",
   "id": "599b43c3",
   "metadata": {},
   "source": [
    "## Cronbach's Alpha"
   ]
  },
  {
   "cell_type": "code",
   "execution_count": 12,
   "id": "263c5328",
   "metadata": {},
   "outputs": [],
   "source": [
    "def cronbach_alpha(df):\n",
    "    # 1. Transform the df into a correlation matrix\n",
    "    df_corr = df.corr()\n",
    "    \n",
    "    # 2.1 Calculate N\n",
    "    # The number of variables equals the number of columns in the df\n",
    "    N = df.shape[1]\n",
    "    \n",
    "    # 2.2 Calculate R\n",
    "    # For this, we'll loop through the columns and append every\n",
    "    # relevant correlation to an array calles \"r_s\". Then, we'll\n",
    "    # calculate the mean of \"r_s\"\n",
    "    rs = np.array([])\n",
    "    for i, col in enumerate(df_corr.columns):\n",
    "        sum_ = df_corr[col][i+1:].values\n",
    "        rs = np.append(sum_, rs)\n",
    "    mean_r = np.mean(rs)\n",
    "    \n",
    "   # 3. Use the formula to calculate Cronbach's Alpha \n",
    "    cronbach_alpha = (N * mean_r) / (1 + (N - 1) * mean_r)\n",
    "    return cronbach_alpha"
   ]
  },
  {
   "cell_type": "code",
   "execution_count": 13,
   "id": "b670b015",
   "metadata": {},
   "outputs": [
    {
     "name": "stdout",
     "output_type": "stream",
     "text": [
      "Cronbach's Alpha for Cognitive Legitimacy is: 0.7011558851077989\n",
      "Cronbach's Alpha for Pragmatic Legitimacy is: 0.7575121734683142\n",
      "Cronbach's Alpha for Gender Role Attitude is: 0.732003710527523\n"
     ]
    }
   ],
   "source": [
    "print(\"Cronbach's Alpha for Cognitive Legitimacy is: \" + str(cronbach_alpha(df[[0,1,2]])))\n",
    "print(\"Cronbach's Alpha for Pragmatic Legitimacy is: \" + str(cronbach_alpha(df[[3,4,5]])))\n",
    "print(\"Cronbach's Alpha for Gender Role Attitude is: \" + str(cronbach_alpha(df[[16,17,18,19,20]])))"
   ]
  },
  {
   "cell_type": "markdown",
   "id": "45307dd4",
   "metadata": {},
   "source": [
    "## Multiple Linear Regression"
   ]
  },
  {
   "cell_type": "code",
   "execution_count": 14,
   "id": "a71443cb",
   "metadata": {},
   "outputs": [],
   "source": [
    "from sklearn import linear_model\n",
    "import statsmodels.api as sm"
   ]
  },
  {
   "cell_type": "code",
   "execution_count": 15,
   "id": "e4f9b528",
   "metadata": {},
   "outputs": [
    {
     "name": "stdout",
     "output_type": "stream",
     "text": [
      "Regression for Cognitive Legitimacy \n",
      "\n",
      "                            OLS Regression Results                            \n",
      "==============================================================================\n",
      "Dep. Variable:                cog_leg   R-squared:                       0.288\n",
      "Model:                            OLS   Adj. R-squared:                  0.215\n",
      "Method:                 Least Squares   F-statistic:                     3.945\n",
      "Date:                Fri, 02 Jul 2021   Prob (F-statistic):            0.00878\n",
      "Time:                        12:19:58   Log-Likelihood:                -41.080\n",
      "No. Observations:                  44   AIC:                             92.16\n",
      "Df Residuals:                      39   BIC:                             101.1\n",
      "Df Model:                           4                                         \n",
      "Covariance Type:            nonrobust                                         \n",
      "===================================================================================\n",
      "                      coef    std err          t      P>|t|      [0.025      0.975]\n",
      "-----------------------------------------------------------------------------------\n",
      "const               3.6314      0.302     12.020      0.000       3.020       4.243\n",
      "34                 -0.0314      0.222     -0.142      0.888      -0.479       0.417\n",
      "gender_role_att    -0.0490      0.184     -0.267      0.791      -0.421       0.323\n",
      "26                 -0.6368      0.229     -2.786      0.008      -1.099      -0.174\n",
      "31                  0.7386      0.224      3.302      0.002       0.286       1.191\n",
      "==============================================================================\n",
      "Omnibus:                        8.290   Durbin-Watson:                   1.592\n",
      "Prob(Omnibus):                  0.016   Jarque-Bera (JB):                7.226\n",
      "Skew:                          -0.869   Prob(JB):                       0.0270\n",
      "Kurtosis:                       3.961   Cond. No.                         7.31\n",
      "==============================================================================\n",
      "\n",
      "Notes:\n",
      "[1] Standard Errors assume that the covariance matrix of the errors is correctly specified.\n",
      "\n"
     ]
    }
   ],
   "source": [
    "#Define predictors\n",
    "X = df[[34,\"gender_role_att\",26,31]]\n",
    "\n",
    "Y = df[\"cog_leg\"]\n",
    "regression = linear_model.LinearRegression()\n",
    "regression.fit(X,Y)\n",
    "X = sm.add_constant(X) # adding a constant\n",
    "model = sm.OLS(Y, X).fit()\n",
    "predictions = model.predict(X) \n",
    "print_model = model.summary()\n",
    "print(\"Regression for Cognitive Legitimacy \\n\\n\" + str(print_model)  + \"\\n\")"
   ]
  },
  {
   "cell_type": "code",
   "execution_count": 16,
   "id": "a36007bf",
   "metadata": {},
   "outputs": [
    {
     "name": "stdout",
     "output_type": "stream",
     "text": [
      "Regression for Cognitive Legitimacy \n",
      "\n",
      "                            OLS Regression Results                            \n",
      "==============================================================================\n",
      "Dep. Variable:               prag_leg   R-squared:                       0.140\n",
      "Model:                            OLS   Adj. R-squared:                  0.076\n",
      "Method:                 Least Squares   F-statistic:                     2.178\n",
      "Date:                Fri, 02 Jul 2021   Prob (F-statistic):              0.106\n",
      "Time:                        12:19:58   Log-Likelihood:                -45.990\n",
      "No. Observations:                  44   AIC:                             99.98\n",
      "Df Residuals:                      40   BIC:                             107.1\n",
      "Df Model:                           3                                         \n",
      "Covariance Type:            nonrobust                                         \n",
      "===================================================================================\n",
      "                      coef    std err          t      P>|t|      [0.025      0.975]\n",
      "-----------------------------------------------------------------------------------\n",
      "const               3.4407      0.334     10.316      0.000       2.767       4.115\n",
      "34                 -0.1580      0.244     -0.646      0.522      -0.652       0.336\n",
      "gender_role_att     0.2093      0.199      1.051      0.299      -0.193       0.612\n",
      "26                 -0.6027      0.247     -2.437      0.019      -1.103      -0.103\n",
      "==============================================================================\n",
      "Omnibus:                        4.376   Durbin-Watson:                   2.013\n",
      "Prob(Omnibus):                  0.112   Jarque-Bera (JB):                4.002\n",
      "Skew:                          -0.273   Prob(JB):                        0.135\n",
      "Kurtosis:                       4.373   Cond. No.                         7.20\n",
      "==============================================================================\n",
      "\n",
      "Notes:\n",
      "[1] Standard Errors assume that the covariance matrix of the errors is correctly specified.\n",
      "\n"
     ]
    }
   ],
   "source": [
    "#Define predictors\n",
    "X = df[[34,\"gender_role_att\",26]]\n",
    "\n",
    "Y = df[\"prag_leg\"]\n",
    "regression = linear_model.LinearRegression()\n",
    "regression.fit(X,Y)\n",
    "X = sm.add_constant(X) # adding a constant\n",
    "model = sm.OLS(Y, X).fit()\n",
    "predictions = model.predict(X) \n",
    "print_model = model.summary()\n",
    "print(\"Regression for Cognitive Legitimacy \\n\\n\" + str(print_model)  + \"\\n\")"
   ]
  },
  {
   "cell_type": "code",
   "execution_count": null,
   "id": "834efcb9",
   "metadata": {},
   "outputs": [],
   "source": []
  }
 ],
 "metadata": {
  "kernelspec": {
   "display_name": "Python 3",
   "language": "python",
   "name": "python3"
  },
  "language_info": {
   "codemirror_mode": {
    "name": "ipython",
    "version": 3
   },
   "file_extension": ".py",
   "mimetype": "text/x-python",
   "name": "python",
   "nbconvert_exporter": "python",
   "pygments_lexer": "ipython3",
   "version": "3.8.10"
  }
 },
 "nbformat": 4,
 "nbformat_minor": 5
}
