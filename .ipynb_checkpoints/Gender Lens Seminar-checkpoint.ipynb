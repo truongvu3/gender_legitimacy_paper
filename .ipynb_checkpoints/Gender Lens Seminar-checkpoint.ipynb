{
 "cells": [
  {
   "cell_type": "code",
   "execution_count": 1,
   "id": "6c9031bb",
   "metadata": {},
   "outputs": [],
   "source": [
    "import pandas as pd\n",
    "import numpy as np\n",
    "import matplotlib.pyplot as plt\n",
    "\n",
    "dff = pd.read_csv(\"Female Vignette.csv\")\n",
    "dfm = pd.read_csv(\"Male Vignette.csv\")"
   ]
  },
  {
   "cell_type": "markdown",
   "id": "8cca2a6e",
   "metadata": {},
   "source": [
    "## Data Cleaning, concatenate two sheets, change column names, reverse scales, quantifying"
   ]
  },
  {
   "cell_type": "code",
   "execution_count": 2,
   "id": "5117bffd",
   "metadata": {},
   "outputs": [],
   "source": [
    "dff.rename(columns=lambda x: x.strip())\n",
    "dfm.rename(columns=lambda x: x.strip())\n",
    "dff.drop(columns=\"Timestamp\",inplace=True)\n",
    "dfm.drop(columns=\"Timestamp\",inplace=True)\n",
    "\n",
    "dff[\"Gendered language (f=0,m=1)\"] = 0\n",
    "dfm[\"Gendered language (f=0,m=1)\"] = 1\n",
    "\n",
    "df = pd.concat([dff,dfm])\n",
    "df.reset_index(inplace=True, drop=True)\n",
    "df.columns = [num for num,i in enumerate(df.columns)]"
   ]
  },
  {
   "cell_type": "code",
   "execution_count": 3,
   "id": "28612404",
   "metadata": {},
   "outputs": [],
   "source": [
    "#Reverse code scales\n",
    "def reverseScoring(df, high, cols):\n",
    "    '''Reverse scores on given columns\n",
    "     df = your data frame,\n",
    "     high = highest score available\n",
    "     cols = the columns you want reversed in list form'''\n",
    "    df[cols] = high - df[cols]\n",
    "    return df"
   ]
  },
  {
   "cell_type": "code",
   "execution_count": 4,
   "id": "379aab1d",
   "metadata": {},
   "outputs": [],
   "source": [
    "#Gender Role attitudes\n",
    "df = reverseScoring(df, 6, [19,20])"
   ]
  },
  {
   "cell_type": "code",
   "execution_count": 5,
   "id": "8d8732c6",
   "metadata": {},
   "outputs": [],
   "source": [
    "#Gender of participant\n",
    "df[26] = df[26].apply(lambda x: 1 if x == \"Male\" else 0)"
   ]
  },
  {
   "cell_type": "code",
   "execution_count": 6,
   "id": "7a554a49",
   "metadata": {},
   "outputs": [],
   "source": [
    "#Have you owned a business before?\n",
    "df[31] = df[31].apply(lambda x: 1 if x == \"Yes\" else 0)"
   ]
  },
  {
   "cell_type": "code",
   "execution_count": 7,
   "id": "1169822e",
   "metadata": {},
   "outputs": [],
   "source": [
    "#Filter partipants with manipulation check question #7"
   ]
  },
  {
   "cell_type": "code",
   "execution_count": 8,
   "id": "384dca83",
   "metadata": {},
   "outputs": [],
   "source": [
    "df = df[df[7] == 4]"
   ]
  },
  {
   "cell_type": "markdown",
   "id": "eed1e89c",
   "metadata": {},
   "source": [
    "## Summarise scales"
   ]
  },
  {
   "cell_type": "code",
   "execution_count": 9,
   "id": "a29224af",
   "metadata": {},
   "outputs": [],
   "source": [
    "df[\"cog_leg\"] = (df[0]+df[1]+df[2])/3\n",
    "df[\"prag_leg\"] = (df[3]+df[4]+df[5])/3\n",
    "df[\"gender_role_att\"] = (df[16]+df[17]+df[18]+df[19]+df[20])/5"
   ]
  },
  {
   "cell_type": "markdown",
   "id": "cbc35da3",
   "metadata": {},
   "source": [
    "## Write questions code to desktop"
   ]
  },
  {
   "cell_type": "code",
   "execution_count": 10,
   "id": "3ff44b37",
   "metadata": {},
   "outputs": [],
   "source": [
    "#Write question code to Desktop\n",
    "columns_index = [str(num) + \" \" + i + \" \\n\" for num,i in enumerate(dff.columns)]\n",
    "textfile = open(\"C:/Users/truon/Desktop/question_codes.txt\", \"w\")\n",
    "for element in columns_index:\n",
    "    textfile.write(element + \"\\n\")\n",
    "textfile.close()"
   ]
  },
  {
   "cell_type": "code",
   "execution_count": 11,
   "id": "1ea74457",
   "metadata": {},
   "outputs": [
    {
     "name": "stdout",
     "output_type": "stream",
     "text": [
      "0 I envision the business receiving high-profile endorsements in the future. \n",
      "\n",
      "1 I envision this business receiving favourable press coverage in the future. \n",
      "\n",
      "2 I envision this business having a top management team that will benefit the organisation. \n",
      "\n",
      "3 In general, this company will create value for its stakeholders.  \n",
      "\n",
      "4 The policies of this company will cater to the interests of its stakeholders.  \n",
      "\n",
      "5 I believe the activities of this company will benefit their immediate stakeholders \n",
      "\n",
      "6 I had no difficulty imagining myself in the scenario (as a funder) presented earlier. \n",
      "\n",
      "7 This question serves as an indicator for whether you actually take your time and carefully read the instructions. Please select the second from right option (4). \n",
      "\n",
      "8 When jobs are scarce, men should have more of a right to a job than women.  \n",
      "\n",
      "9 If a woman earns more money than her husband, it's almost certain to cause problems. \n",
      "\n",
      "10 Women have the same rights as men. \n",
      "\n",
      "11 On the whole, men make better political leaders than women do. \n",
      "\n",
      "12 A university education is more important for a boy than for a girl. \n",
      "\n",
      "13 When a mother works for pay, the children suffer. \n",
      "\n",
      "14 Having a job is the best way for a woman to be an independent person. \n",
      "\n",
      "15 On the whole, men make better business executives than women do. \n",
      "\n",
      "16 It is usually better for everyone if the man is the achiever outside the home and the woman takes care of the home and family.  \n",
      "\n",
      "17 Men should be given first chance at most jobs because they have the primary responsibility for providing for a family. \n",
      "\n",
      "18 It is more important for a husband to commit his time to his work rather than helping his wife at home. \n",
      "\n",
      "19 Young women should be encouraged to take jobs that are usually filled by men (engineering, management, etc.).  \n",
      "\n",
      "20 If both husband and wife work, the husband should help out just as much as the women with the housework and childcare. \n",
      "\n",
      "21 I have good knowledge of investing. \n",
      "\n",
      "22 Equity-based crowdfunding is a funding practice I was already familiar with. \n",
      "\n",
      "23 I am familiar with the industry the project is planning on operating in. \n",
      "\n",
      "24 The product or the service of the previously shown project is targeted at customers of a specific sex. \n",
      "\n",
      "25 I have participated in an equity-based crowdfunding project as a funder before. \n",
      "\n",
      "26 What is your gender? \n",
      "\n",
      "27 What is your age (in years)?  \n",
      "\n",
      "28 What is your nationality? \n",
      "\n",
      "29 What is your employment status? \n",
      "\n",
      "30 What is your total household income per month, that means the sum of all net incomes of the people living in your household? \n",
      "\n",
      "31 Have you owned a business in the past or do you currently own a business? \n",
      "\n",
      "32 What is the highest degree or level of school you have completed? \n",
      "\n",
      "33 What is your ethnical background? \n",
      "\n",
      "34 Gendered language (f=0,m=1) \n",
      "\n",
      "\n"
     ]
    }
   ],
   "source": [
    "f = open(\"C:/Users/truon/Desktop/question_codes.txt\", \"r\")\n",
    "print(f.read())"
   ]
  },
  {
   "cell_type": "markdown",
   "id": "d42297e2",
   "metadata": {},
   "source": [
    "# Analysis\n",
    "## Visuals"
   ]
  },
  {
   "cell_type": "code",
   "execution_count": 12,
   "id": "beb4cef8",
   "metadata": {},
   "outputs": [
    {
     "data": {
      "image/png": "[encoded data removed]",
      "text/plain": [
       "<Figure size 432x288 with 1 Axes>"
      ]
     },
     "metadata": {
      "needs_background": "light"
     },
     "output_type": "display_data"
    }
   ],
   "source": [
    "plt.scatter(df[34], df['prag_leg'], color='red')\n",
    "plt.title('Pragmatic Legitimacy (0 = female, 1 = male)', fontsize=14)\n",
    "# plt.xlabel('Interest Rate', fontsize=14)\n",
    "# plt.ylabel('Stock Index Price', fontsize=14)\n",
    "plt.grid(True)\n",
    "plt.show()"
   ]
  },
  {
   "cell_type": "markdown",
   "id": "b401521a",
   "metadata": {},
   "source": [
    "## Cronbach's Alpha"
   ]
  },
  {
   "cell_type": "code",
   "execution_count": 13,
   "id": "b8fc5b12",
   "metadata": {},
   "outputs": [],
   "source": [
    "def cronbach_alpha(df):\n",
    "    # 1. Transform the df into a correlation matrix\n",
    "    df_corr = df.corr()\n",
    "    \n",
    "    # 2.1 Calculate N\n",
    "    # The number of variables equals the number of columns in the df\n",
    "    N = df.shape[1]\n",
    "    \n",
    "    # 2.2 Calculate R\n",
    "    # For this, we'll loop through the columns and append every\n",
    "    # relevant correlation to an array calles \"r_s\". Then, we'll\n",
    "    # calculate the mean of \"r_s\"\n",
    "    rs = np.array([])\n",
    "    for i, col in enumerate(df_corr.columns):\n",
    "        sum_ = df_corr[col][i+1:].values\n",
    "        rs = np.append(sum_, rs)\n",
    "    mean_r = np.mean(rs)\n",
    "    \n",
    "   # 3. Use the formula to calculate Cronbach's Alpha \n",
    "    cronbach_alpha = (N * mean_r) / (1 + (N - 1) * mean_r)\n",
    "    return cronbach_alpha"
   ]
  },
  {
   "cell_type": "code",
   "execution_count": 14,
   "id": "fe3bd733",
   "metadata": {},
   "outputs": [
    {
     "name": "stdout",
     "output_type": "stream",
     "text": [
      "Cronbach's Alpha for Cognitive Legitimacy is: 0.7193567834078763\n",
      "Cronbach's Alpha for Pragmatic Legitimacy is: 0.7183524874255046\n",
      "Cronbach's Alpha for Gender Role Attitude is: 0.6510644948231828\n"
     ]
    }
   ],
   "source": [
    "print(\"Cronbach's Alpha for Cognitive Legitimacy is: \" + str(cronbach_alpha(df[[0,1,2]])))\n",
    "print(\"Cronbach's Alpha for Pragmatic Legitimacy is: \" + str(cronbach_alpha(df[[3,4,5]])))\n",
    "print(\"Cronbach's Alpha for Gender Role Attitude is: \" + str(cronbach_alpha(df[[16,17,18,19,20]])))"
   ]
  },
  {
   "cell_type": "markdown",
   "id": "5afa8418",
   "metadata": {},
   "source": [
    "## Multiple Linear Regression"
   ]
  },
  {
   "cell_type": "code",
   "execution_count": 15,
   "id": "41433233",
   "metadata": {},
   "outputs": [],
   "source": [
    "from sklearn import linear_model\n",
    "import statsmodels.api as sm"
   ]
  },
  {
   "cell_type": "code",
   "execution_count": 19,
   "id": "f2d171bd",
   "metadata": {},
   "outputs": [
    {
     "name": "stdout",
     "output_type": "stream",
     "text": [
      "Regression for Cognitive Legitimacy \n",
      "\n",
      "Model includes 26 = Gender of participant, 31 = Business owner, 34 = Gender identity of vignette \n",
      "\n",
      "                            OLS Regression Results                            \n",
      "==============================================================================\n",
      "Dep. Variable:                cog_leg   R-squared:                       0.163\n",
      "Model:                            OLS   Adj. R-squared:                  0.121\n",
      "Method:                 Least Squares   F-statistic:                     3.885\n",
      "Date:                Tue, 16 Nov 2021   Prob (F-statistic):            0.00619\n",
      "Time:                        10:39:58   Log-Likelihood:                -85.911\n",
      "No. Observations:                  85   AIC:                             181.8\n",
      "Df Residuals:                      80   BIC:                             194.0\n",
      "Df Model:                           4                                         \n",
      "Covariance Type:            nonrobust                                         \n",
      "===================================================================================\n",
      "                      coef    std err          t      P>|t|      [0.025      0.975]\n",
      "-----------------------------------------------------------------------------------\n",
      "const               3.5563      0.243     14.664      0.000       3.074       4.039\n",
      "34                  0.2546      0.151      1.685      0.096      -0.046       0.555\n",
      "gender_role_att     0.0536      0.138      0.388      0.699      -0.221       0.328\n",
      "26                 -0.4522      0.159     -2.852      0.006      -0.768      -0.137\n",
      "31                  0.4618      0.178      2.598      0.011       0.108       0.816\n",
      "==============================================================================\n",
      "Omnibus:                        3.172   Durbin-Watson:                   1.729\n",
      "Prob(Omnibus):                  0.205   Jarque-Bera (JB):                3.054\n",
      "Skew:                          -0.116   Prob(JB):                        0.217\n",
      "Kurtosis:                       3.899   Cond. No.                         8.01\n",
      "==============================================================================\n",
      "\n",
      "Notes:\n",
      "[1] Standard Errors assume that the covariance matrix of the errors is correctly specified.\n",
      "\n"
     ]
    }
   ],
   "source": [
    "#Define predictors\n",
    "X = df[[34,\"gender_role_att\",26,31]]\n",
    "\n",
    "Y = df[\"cog_leg\"]\n",
    "regression = linear_model.LinearRegression()\n",
    "regression.fit(X,Y)\n",
    "X = sm.add_constant(X) # adding a constant\n",
    "model = sm.OLS(Y, X).fit()\n",
    "predictions = model.predict(X) \n",
    "print_model = model.summary()\n",
    "print(\"Regression for Cognitive Legitimacy \\n\\nModel includes 26 = Gender of participant, 31 = Business owner, 34 = Gender identity of vignette \\n\\n\" + str(print_model)  + \"\\n\")"
   ]
  },
  {
   "cell_type": "code",
   "execution_count": 17,
   "id": "5b2013ff",
   "metadata": {},
   "outputs": [],
   "source": [
    "# #Define predictors\n",
    "# X = df[[34,\"gender_role_att\",26]]\n",
    "\n",
    "# Y = df[\"prag_leg\"]\n",
    "# regression = linear_model.LinearRegression()\n",
    "# regression.fit(X,Y)\n",
    "# X = sm.add_constant(X) # adding a constant\n",
    "# model = sm.OLS(Y, X).fit()\n",
    "# predictions = model.predict(X) \n",
    "# print_model = model.summary()\n",
    "# print(\"Regression for Cognitive Legitimacy \\n\\n\" + str(print_model)  + \"\\n\")"
   ]
  },
  {
   "cell_type": "code",
   "execution_count": null,
   "id": "7e3a0aa5",
   "metadata": {},
   "outputs": [],
   "source": []
  }
 ],
 "metadata": {
  "kernelspec": {
   "display_name": "Python 3",
   "language": "python",
   "name": "python3"
  },
  "language_info": {
   "codemirror_mode": {
    "name": "ipython",
    "version": 3
   },
   "file_extension": ".py",
   "mimetype": "text/x-python",
   "name": "python",
   "nbconvert_exporter": "python",
   "pygments_lexer": "ipython3",
   "version": "3.8.10"
  }
 },
 "nbformat": 4,
 "nbformat_minor": 5
}
